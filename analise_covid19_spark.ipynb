{
 "cells": [
  {
   "cell_type": "markdown",
   "metadata": {},
   "source": [
    "# Análise do COVID-19 com Spark"
   ]
  },
  {
   "cell_type": "markdown",
   "metadata": {},
   "source": [
    "Utilizando o Spark para leitura e tratamento dos dados de casos de COVID-19 reportados ao SUS no Brasil*, iremos responder às seguintes perguntas:\n",
    "* Qual o número de casos e mortes (absoluto e percentual) por raça, faixa etária e escolaridade?\n",
    "* Quais os sitomas reportados mais comuns para os que se curaram e os que sobreviveram?\n",
    "* Qual é o perfil da população mais suscetível à morte, considerando faixa etária, escolaridade, região do país e fatores de risco?\n",
    "\n",
    "*_arquivo de dados baixado de http://plataforma.saude.gov.br/coronavirus/dados-abertos/ atualizado em 18/05/2020_"
   ]
  },
  {
   "cell_type": "markdown",
   "metadata": {},
   "source": [
    "# Setup inicial\n",
    "\n",
    "Primeiramente vamos criar a Spark Session"
   ]
  },
  {
   "cell_type": "code",
   "execution_count": 1,
   "metadata": {
    "ExecuteTime": {
     "end_time": "2020-06-14T16:12:53.947418Z",
     "start_time": "2020-06-14T16:12:53.824505Z"
    }
   },
   "outputs": [],
   "source": [
    "from pyspark.sql import SparkSession"
   ]
  },
  {
   "cell_type": "code",
   "execution_count": 2,
   "metadata": {
    "ExecuteTime": {
     "end_time": "2020-06-14T16:12:57.580377Z",
     "start_time": "2020-06-14T16:12:53.949185Z"
    }
   },
   "outputs": [],
   "source": [
    "spark = SparkSession.builder \\\n",
    "        .master('local[8]') \\\n",
    "        .appName(\"Covid Renato\")\\\n",
    "        .getOrCreate()"
   ]
  },
  {
   "cell_type": "code",
   "execution_count": 3,
   "metadata": {
    "ExecuteTime": {
     "end_time": "2020-06-14T16:12:57.600442Z",
     "start_time": "2020-06-14T16:12:57.583351Z"
    }
   },
   "outputs": [
    {
     "data": {
      "text/html": [
       "\n",
       "            <div>\n",
       "                <p><b>SparkSession - in-memory</b></p>\n",
       "                \n",
       "        <div>\n",
       "            <p><b>SparkContext</b></p>\n",
       "\n",
       "            <p><a href=\"http://ip-172-31-16-131.ec2.internal:4043\">Spark UI</a></p>\n",
       "\n",
       "            <dl>\n",
       "              <dt>Version</dt>\n",
       "                <dd><code>v2.4.5</code></dd>\n",
       "              <dt>Master</dt>\n",
       "                <dd><code>local[8]</code></dd>\n",
       "              <dt>AppName</dt>\n",
       "                <dd><code>Covid Renato</code></dd>\n",
       "            </dl>\n",
       "        </div>\n",
       "        \n",
       "            </div>\n",
       "        "
      ],
      "text/plain": [
       "<pyspark.sql.session.SparkSession at 0x7f021857f350>"
      ]
     },
     "execution_count": 3,
     "metadata": {},
     "output_type": "execute_result"
    }
   ],
   "source": [
    "spark"
   ]
  },
  {
   "cell_type": "code",
   "execution_count": 4,
   "metadata": {
    "ExecuteTime": {
     "end_time": "2020-06-14T16:12:57.606013Z",
     "start_time": "2020-06-14T16:12:57.602797Z"
    }
   },
   "outputs": [],
   "source": [
    "sc = spark.sparkContext"
   ]
  },
  {
   "cell_type": "markdown",
   "metadata": {},
   "source": [
    "E importar o arquivo dados-covid"
   ]
  },
  {
   "cell_type": "code",
   "execution_count": 5,
   "metadata": {
    "ExecuteTime": {
     "end_time": "2020-06-14T16:12:57.611462Z",
     "start_time": "2020-06-14T16:12:57.608341Z"
    }
   },
   "outputs": [],
   "source": [
    "path = '../data/covid'\n",
    "datafile = '/dados-covid-200518.csv'"
   ]
  },
  {
   "cell_type": "code",
   "execution_count": 6,
   "metadata": {
    "ExecuteTime": {
     "end_time": "2020-06-14T16:13:01.731277Z",
     "start_time": "2020-06-14T16:12:57.613674Z"
    }
   },
   "outputs": [],
   "source": [
    "sdf1 = spark.read \\\n",
    "        .option('header', True) \\\n",
    "        .option(\"delimiter\", \";\")\\\n",
    "        .csv(path + datafile)"
   ]
  },
  {
   "cell_type": "markdown",
   "metadata": {},
   "source": [
    "# Tratamento Inicial do banco de dados"
   ]
  },
  {
   "cell_type": "code",
   "execution_count": 7,
   "metadata": {
    "ExecuteTime": {
     "end_time": "2020-06-14T16:13:01.736579Z",
     "start_time": "2020-06-14T16:13:01.733118Z"
    }
   },
   "outputs": [],
   "source": [
    "from pyspark.sql.types import *"
   ]
  },
  {
   "cell_type": "code",
   "execution_count": 8,
   "metadata": {
    "ExecuteTime": {
     "end_time": "2020-06-14T16:13:01.752618Z",
     "start_time": "2020-06-14T16:13:01.739763Z"
    }
   },
   "outputs": [],
   "source": [
    "from pyspark.sql import functions as sf"
   ]
  },
  {
   "cell_type": "code",
   "execution_count": 9,
   "metadata": {
    "ExecuteTime": {
     "end_time": "2020-06-14T16:13:01.758674Z",
     "start_time": "2020-06-14T16:13:01.755331Z"
    }
   },
   "outputs": [],
   "source": [
    "from pyspark.sql.functions import *"
   ]
  },
  {
   "cell_type": "code",
   "execution_count": 10,
   "metadata": {
    "ExecuteTime": {
     "end_time": "2020-06-14T16:13:01.764047Z",
     "start_time": "2020-06-14T16:13:01.761070Z"
    }
   },
   "outputs": [],
   "source": [
    "from pyspark.sql.window import Window"
   ]
  },
  {
   "cell_type": "markdown",
   "metadata": {},
   "source": [
    "Lendo o dicionário do banco de dados, vamos trabalhar com as seguintes variáveis: <br>\n",
    "\n",
    "**Perfil demográfico do paciente:** \n",
    "SG_UF_NOT , \n",
    "CS_SEXO ,\n",
    "NU_IDADE_N ,\n",
    "TP_IDADE,\n",
    "CS_RACA ,\n",
    "CS_ESCOL_N ,\n",
    "CS_ZONA<br>\n",
    "**35 - sintomas:** (FEBRE, TOSSE, GARGANTA, DISPNEIA, DESC_RESP, SATURACAO, DIARREIA, VOMITO, OUTRO_SIN, OUTRO_DES)<br>\n",
    "**36- Fatores de risco:** (PUERPERA, CARDIOPATI, HEMATOLOGI, SIND_DOWN, HEPATICA, ASMA, DIABETES, NEUROLOGIC, PNEUMOPATI, IMUNODEPRE, RENAL, OBESIDADE, OUT_MORBI)<br>\n",
    "**Apenas os casos de COIVD:** CLASSI_FIN (= 5-COVID-19)<br>\n",
    "**Evolução do paciente**: EVOLUCAO\n",
    "\n",
    "Assim, vamos reduzir o daataframe considerando apenas nossas variáveis foco."
   ]
  },
  {
   "cell_type": "code",
   "execution_count": 11,
   "metadata": {
    "ExecuteTime": {
     "end_time": "2020-06-14T16:13:01.944851Z",
     "start_time": "2020-06-14T16:13:01.766446Z"
    }
   },
   "outputs": [],
   "source": [
    "sdf2 = sdf1.select('SG_UF_NOT','CS_SEXO','NU_IDADE_N','TP_IDADE','CS_RACA','CS_ESCOL_N','CLASSI_FIN','EVOLUCAO',\\\n",
    "                  'FEBRE','TOSSE','GARGANTA','DISPNEIA','DESC_RESP','SATURACAO','DIARREIA','VOMITO',\\\n",
    "                  'OUTRO_SIN','OUTRO_DES','PUERPERA','CARDIOPATI','HEMATOLOGI','SIND_DOWN','HEPATICA',\\\n",
    "                  'ASMA','DIABETES','NEUROLOGIC','PNEUMOPATI','IMUNODEPRE','RENAL','OBESIDADE','OUT_MORBI', 'PCR_SARS2')\\\n",
    "                    .filter(sdf1['CLASSI_FIN'] == '5')"
   ]
  },
  {
   "cell_type": "markdown",
   "metadata": {
    "ExecuteTime": {
     "end_time": "2020-06-13T14:00:16.808993Z",
     "start_time": "2020-06-13T14:00:16.804995Z"
    }
   },
   "source": [
    "Também vamos criar uma coluna com o percentual de cada linha para facilitar cálculos"
   ]
  },
  {
   "cell_type": "code",
   "execution_count": 12,
   "metadata": {
    "ExecuteTime": {
     "end_time": "2020-06-14T16:13:03.590891Z",
     "start_time": "2020-06-14T16:13:01.947647Z"
    }
   },
   "outputs": [],
   "source": [
    "total = sdf2.select('SG_UF_NOT').count()\n",
    "sdf3 = sdf2.withColumn('percent', sf.lit(1/total))"
   ]
  },
  {
   "cell_type": "markdown",
   "metadata": {},
   "source": [
    "# Analise o número de casos e mortes"
   ]
  },
  {
   "cell_type": "markdown",
   "metadata": {
    "ExecuteTime": {
     "end_time": "2020-06-13T15:46:53.198118Z",
     "start_time": "2020-06-13T15:46:53.194456Z"
    }
   },
   "source": [
    "### Análise geral:\n",
    "\n",
    "Primeiro, vamos analisar os casos de COVID pelo tipo de evolução do caso: "
   ]
  },
  {
   "cell_type": "code",
   "execution_count": 13,
   "metadata": {
    "ExecuteTime": {
     "end_time": "2020-06-14T16:13:06.938257Z",
     "start_time": "2020-06-14T16:13:03.592832Z"
    }
   },
   "outputs": [
    {
     "data": {
      "text/html": [
       "<div>\n",
       "<style scoped>\n",
       "    .dataframe tbody tr th:only-of-type {\n",
       "        vertical-align: middle;\n",
       "    }\n",
       "\n",
       "    .dataframe tbody tr th {\n",
       "        vertical-align: top;\n",
       "    }\n",
       "\n",
       "    .dataframe thead th {\n",
       "        text-align: right;\n",
       "    }\n",
       "</style>\n",
       "<table border=\"1\" class=\"dataframe\">\n",
       "  <thead>\n",
       "    <tr style=\"text-align: right;\">\n",
       "      <th></th>\n",
       "      <th>EVOLUCAO</th>\n",
       "      <th>Count</th>\n",
       "      <th>Percent</th>\n",
       "    </tr>\n",
       "  </thead>\n",
       "  <tbody>\n",
       "    <tr>\n",
       "      <th>0</th>\n",
       "      <td>None</td>\n",
       "      <td>11716</td>\n",
       "      <td>27.0</td>\n",
       "    </tr>\n",
       "    <tr>\n",
       "      <th>1</th>\n",
       "      <td>1</td>\n",
       "      <td>16435</td>\n",
       "      <td>37.0</td>\n",
       "    </tr>\n",
       "    <tr>\n",
       "      <th>2</th>\n",
       "      <td>2</td>\n",
       "      <td>13558</td>\n",
       "      <td>31.0</td>\n",
       "    </tr>\n",
       "    <tr>\n",
       "      <th>3</th>\n",
       "      <td>9</td>\n",
       "      <td>2197</td>\n",
       "      <td>5.0</td>\n",
       "    </tr>\n",
       "  </tbody>\n",
       "</table>\n",
       "</div>"
      ],
      "text/plain": [
       "  EVOLUCAO  Count  Percent\n",
       "0     None  11716     27.0\n",
       "1        1  16435     37.0\n",
       "2        2  13558     31.0\n",
       "3        9   2197      5.0"
      ]
     },
     "execution_count": 13,
     "metadata": {},
     "output_type": "execute_result"
    }
   ],
   "source": [
    "table1 = sdf3.groupBy('EVOLUCAO').agg(sf.count('SG_UF_NOT').alias('Count'),\\\n",
    "                                      round(sf.sum('percent')*100).alias('Percent'))\\\n",
    "                                    .sort(col('EVOLUCAO').asc()).toPandas()\n",
    "table1"
   ]
  },
  {
   "cell_type": "code",
   "execution_count": 14,
   "metadata": {
    "ExecuteTime": {
     "end_time": "2020-06-14T16:13:07.141548Z",
     "start_time": "2020-06-14T16:13:06.940838Z"
    }
   },
   "outputs": [],
   "source": [
    "import matplotlib.pyplot as plt\n",
    "import numpy as np"
   ]
  },
  {
   "cell_type": "code",
   "execution_count": 15,
   "metadata": {
    "ExecuteTime": {
     "end_time": "2020-06-14T16:13:07.323734Z",
     "start_time": "2020-06-14T16:13:07.143387Z"
    }
   },
   "outputs": [
    {
     "data": {
      "text/plain": [
       "<matplotlib.axes._subplots.AxesSubplot at 0x7f01fb40cd10>"
      ]
     },
     "execution_count": 15,
     "metadata": {},
     "output_type": "execute_result"
    },
    {
     "data": {
      "image/png": "[encoded data removed]",
      "text/plain": [
       "<Figure size 576x360 with 1 Axes>"
      ]
     },
     "metadata": {
      "needs_background": "light"
     },
     "output_type": "display_data"
    }
   ],
   "source": [
    "table1.plot(x ='EVOLUCAO', y='Count', kind = 'bar',figsize = (8,5),title = 'Casos por evolução')"
   ]
  },
  {
   "cell_type": "markdown",
   "metadata": {},
   "source": [
    "Avaliando os casos por evolução, vemos que não há dados para quase um terço do levantamento (Evolucao == None ou 9).<br>\n",
    "Também notamos que os casos confirmados de Cura (Evolucao == 1) e Óbito (Evolucao == 2) são muito próximos; no entanto, se considerarmos os pacientes sem evolução como curados, teremos uma taxa de recuperação de 69%.<br>\n",
    "De qualquer forma, podemos concluir que a taxa de mortalidade de pacientes que são hospitalizados (31%) é muito maior do que vemos reportado em geral na população em geral - pelo site da bing (https://www.bing.com/covid) está em 5,5% em 13.jun.2020"
   ]
  },
  {
   "cell_type": "markdown",
   "metadata": {
    "ExecuteTime": {
     "end_time": "2020-06-13T15:38:11.495545Z",
     "start_time": "2020-06-13T15:38:11.491553Z"
    }
   },
   "source": [
    "### Análise por cor da pele do paciente:\n",
    "\n",
    "Casos de COVID por cor de pele"
   ]
  },
  {
   "cell_type": "code",
   "execution_count": 16,
   "metadata": {
    "ExecuteTime": {
     "end_time": "2020-06-14T16:13:09.233230Z",
     "start_time": "2020-06-14T16:13:07.325514Z"
    }
   },
   "outputs": [
    {
     "data": {
      "text/html": [
       "<div>\n",
       "<style scoped>\n",
       "    .dataframe tbody tr th:only-of-type {\n",
       "        vertical-align: middle;\n",
       "    }\n",
       "\n",
       "    .dataframe tbody tr th {\n",
       "        vertical-align: top;\n",
       "    }\n",
       "\n",
       "    .dataframe thead th {\n",
       "        text-align: right;\n",
       "    }\n",
       "</style>\n",
       "<table border=\"1\" class=\"dataframe\">\n",
       "  <thead>\n",
       "    <tr style=\"text-align: right;\">\n",
       "      <th></th>\n",
       "      <th>CS_RACA</th>\n",
       "      <th>Count_caso</th>\n",
       "      <th>Percent_caso</th>\n",
       "    </tr>\n",
       "  </thead>\n",
       "  <tbody>\n",
       "    <tr>\n",
       "      <th>0</th>\n",
       "      <td>None</td>\n",
       "      <td>8504</td>\n",
       "      <td>19.0</td>\n",
       "    </tr>\n",
       "    <tr>\n",
       "      <th>1</th>\n",
       "      <td>1</td>\n",
       "      <td>13838</td>\n",
       "      <td>32.0</td>\n",
       "    </tr>\n",
       "    <tr>\n",
       "      <th>2</th>\n",
       "      <td>2</td>\n",
       "      <td>1972</td>\n",
       "      <td>4.0</td>\n",
       "    </tr>\n",
       "    <tr>\n",
       "      <th>3</th>\n",
       "      <td>3</td>\n",
       "      <td>449</td>\n",
       "      <td>1.0</td>\n",
       "    </tr>\n",
       "    <tr>\n",
       "      <th>4</th>\n",
       "      <td>4</td>\n",
       "      <td>11214</td>\n",
       "      <td>26.0</td>\n",
       "    </tr>\n",
       "    <tr>\n",
       "      <th>5</th>\n",
       "      <td>5</td>\n",
       "      <td>81</td>\n",
       "      <td>0.0</td>\n",
       "    </tr>\n",
       "    <tr>\n",
       "      <th>6</th>\n",
       "      <td>9</td>\n",
       "      <td>7848</td>\n",
       "      <td>18.0</td>\n",
       "    </tr>\n",
       "  </tbody>\n",
       "</table>\n",
       "</div>"
      ],
      "text/plain": [
       "  CS_RACA  Count_caso  Percent_caso\n",
       "0    None        8504          19.0\n",
       "1       1       13838          32.0\n",
       "2       2        1972           4.0\n",
       "3       3         449           1.0\n",
       "4       4       11214          26.0\n",
       "5       5          81           0.0\n",
       "6       9        7848          18.0"
      ]
     },
     "execution_count": 16,
     "metadata": {},
     "output_type": "execute_result"
    }
   ],
   "source": [
    "table2 = sdf3.groupBy('CS_RACA').agg(sf.count('SG_UF_NOT').alias('Count_caso'),\\\n",
    "                                    round(sf.sum('percent')*100).alias('Percent_caso'))\\\n",
    "                                .orderBy('CS_RACA', ascending=True).toPandas()\n",
    "\n",
    "table2"
   ]
  },
  {
   "cell_type": "code",
   "execution_count": 17,
   "metadata": {
    "ExecuteTime": {
     "end_time": "2020-06-14T16:13:09.405395Z",
     "start_time": "2020-06-14T16:13:09.234965Z"
    }
   },
   "outputs": [
    {
     "data": {
      "text/plain": [
       "<matplotlib.axes._subplots.AxesSubplot at 0x7f01fab23bd0>"
      ]
     },
     "execution_count": 17,
     "metadata": {},
     "output_type": "execute_result"
    },
    {
     "data": {
      "image/png": "[encoded data removed]",
      "text/plain": [
       "<Figure size 576x360 with 1 Axes>"
      ]
     },
     "metadata": {
      "needs_background": "light"
     },
     "output_type": "display_data"
    }
   ],
   "source": [
    "table2.plot(x ='CS_RACA', y='Percent_caso', kind = 'bar',figsize = (8,5),title = 'Casos por cor de pele')\n"
   ]
  },
  {
   "cell_type": "markdown",
   "metadata": {},
   "source": [
    "Em relação ao número de pacientes hospitalizados por cor da pele, vemos que em 37% dos casos, a informação não foi coletada.<br>\n",
    "Nos casos em que foi coletado, o maior grupo são os 1-Branca (32%), seguidos por 4-Pardo (26%), 2-Preta (4%). Cor 3-Amarela e 5-Indígena somam 1%."
   ]
  },
  {
   "cell_type": "markdown",
   "metadata": {
    "ExecuteTime": {
     "end_time": "2020-06-13T16:24:16.885428Z",
     "start_time": "2020-06-13T16:24:16.881445Z"
    }
   },
   "source": [
    "Mortes por cor de pele:"
   ]
  },
  {
   "cell_type": "code",
   "execution_count": 18,
   "metadata": {
    "ExecuteTime": {
     "end_time": "2020-06-14T16:13:11.462867Z",
     "start_time": "2020-06-14T16:13:09.407196Z"
    }
   },
   "outputs": [
    {
     "data": {
      "text/html": [
       "<div>\n",
       "<style scoped>\n",
       "    .dataframe tbody tr th:only-of-type {\n",
       "        vertical-align: middle;\n",
       "    }\n",
       "\n",
       "    .dataframe tbody tr th {\n",
       "        vertical-align: top;\n",
       "    }\n",
       "\n",
       "    .dataframe thead th {\n",
       "        text-align: right;\n",
       "    }\n",
       "</style>\n",
       "<table border=\"1\" class=\"dataframe\">\n",
       "  <thead>\n",
       "    <tr style=\"text-align: right;\">\n",
       "      <th></th>\n",
       "      <th>CS_RACA</th>\n",
       "      <th>EVOLUCAO</th>\n",
       "      <th>Count_morte</th>\n",
       "      <th>Percent_morte</th>\n",
       "    </tr>\n",
       "  </thead>\n",
       "  <tbody>\n",
       "    <tr>\n",
       "      <th>0</th>\n",
       "      <td>None</td>\n",
       "      <td>2</td>\n",
       "      <td>2507</td>\n",
       "      <td>18.0</td>\n",
       "    </tr>\n",
       "    <tr>\n",
       "      <th>1</th>\n",
       "      <td>1</td>\n",
       "      <td>2</td>\n",
       "      <td>3788</td>\n",
       "      <td>28.0</td>\n",
       "    </tr>\n",
       "    <tr>\n",
       "      <th>2</th>\n",
       "      <td>2</td>\n",
       "      <td>2</td>\n",
       "      <td>684</td>\n",
       "      <td>5.0</td>\n",
       "    </tr>\n",
       "    <tr>\n",
       "      <th>3</th>\n",
       "      <td>3</td>\n",
       "      <td>2</td>\n",
       "      <td>146</td>\n",
       "      <td>1.0</td>\n",
       "    </tr>\n",
       "    <tr>\n",
       "      <th>4</th>\n",
       "      <td>4</td>\n",
       "      <td>2</td>\n",
       "      <td>4226</td>\n",
       "      <td>31.0</td>\n",
       "    </tr>\n",
       "    <tr>\n",
       "      <th>5</th>\n",
       "      <td>5</td>\n",
       "      <td>2</td>\n",
       "      <td>38</td>\n",
       "      <td>0.0</td>\n",
       "    </tr>\n",
       "    <tr>\n",
       "      <th>6</th>\n",
       "      <td>9</td>\n",
       "      <td>2</td>\n",
       "      <td>2169</td>\n",
       "      <td>16.0</td>\n",
       "    </tr>\n",
       "  </tbody>\n",
       "</table>\n",
       "</div>"
      ],
      "text/plain": [
       "  CS_RACA EVOLUCAO  Count_morte  Percent_morte\n",
       "0    None        2         2507           18.0\n",
       "1       1        2         3788           28.0\n",
       "2       2        2          684            5.0\n",
       "3       3        2          146            1.0\n",
       "4       4        2         4226           31.0\n",
       "5       5        2           38            0.0\n",
       "6       9        2         2169           16.0"
      ]
     },
     "execution_count": 18,
     "metadata": {},
     "output_type": "execute_result"
    }
   ],
   "source": [
    "table3 = sdf3.groupBy('CS_RACA', 'EVOLUCAO').agg(sf.count('SG_UF_NOT').alias('Count_morte'))\\\n",
    "                    .where(sdf3['EVOLUCAO']=='2').orderBy('CS_RACA', ascending=True)\\\n",
    "                    .withColumn('Percent_morte', round(100*sf.col('Count_morte')/sf.sum('Count_morte').over(Window.partitionBy())))\\\n",
    "                    .toPandas()\\\n",
    "  \n",
    "table3"
   ]
  },
  {
   "cell_type": "code",
   "execution_count": 19,
   "metadata": {
    "ExecuteTime": {
     "end_time": "2020-06-14T16:13:11.662406Z",
     "start_time": "2020-06-14T16:13:11.464988Z"
    }
   },
   "outputs": [
    {
     "data": {
      "text/plain": [
       "<matplotlib.axes._subplots.AxesSubplot at 0x7f01faad9e50>"
      ]
     },
     "execution_count": 19,
     "metadata": {},
     "output_type": "execute_result"
    },
    {
     "data": {
      "image/png": "[encoded data removed]",
      "text/plain": [
       "<Figure size 576x360 with 1 Axes>"
      ]
     },
     "metadata": {
      "needs_background": "light"
     },
     "output_type": "display_data"
    }
   ],
   "source": [
    "import pandas as pd\n",
    "table3_2 = pd.concat([table2, table3.drop(['CS_RACA'], axis=1)], axis=1, sort=False,join='inner')\n",
    "table3_2.plot(x ='CS_RACA', y= ['Percent_caso','Percent_morte'], kind = 'bar',figsize = (8,5),\\\n",
    "              title = \"Casos e Mortes por cor de pele\" )\n"
   ]
  },
  {
   "cell_type": "markdown",
   "metadata": {},
   "source": [
    "Analisando as mortes, vemos que o percentual de 4-Pardo passa a liderar com 31% e 2-preta, mesmo que descreto, também tem um aumento na proporção contra a representatividade do número de casos hospitalizados. Por outro lado, 1-Branca cai para 28% dos casos de morte."
   ]
  },
  {
   "cell_type": "markdown",
   "metadata": {},
   "source": [
    "### Análise por Escolaridade do paciente:\n",
    "\n",
    "Casos de COVID por Escolaridade:"
   ]
  },
  {
   "cell_type": "code",
   "execution_count": 20,
   "metadata": {
    "ExecuteTime": {
     "end_time": "2020-06-14T16:13:13.279992Z",
     "start_time": "2020-06-14T16:13:11.664225Z"
    }
   },
   "outputs": [
    {
     "data": {
      "text/html": [
       "<div>\n",
       "<style scoped>\n",
       "    .dataframe tbody tr th:only-of-type {\n",
       "        vertical-align: middle;\n",
       "    }\n",
       "\n",
       "    .dataframe tbody tr th {\n",
       "        vertical-align: top;\n",
       "    }\n",
       "\n",
       "    .dataframe thead th {\n",
       "        text-align: right;\n",
       "    }\n",
       "</style>\n",
       "<table border=\"1\" class=\"dataframe\">\n",
       "  <thead>\n",
       "    <tr style=\"text-align: right;\">\n",
       "      <th></th>\n",
       "      <th>CS_ESCOL_N</th>\n",
       "      <th>Count_caso</th>\n",
       "      <th>Percent_caso</th>\n",
       "    </tr>\n",
       "  </thead>\n",
       "  <tbody>\n",
       "    <tr>\n",
       "      <th>0</th>\n",
       "      <td>None</td>\n",
       "      <td>13361</td>\n",
       "      <td>30.0</td>\n",
       "    </tr>\n",
       "    <tr>\n",
       "      <th>1</th>\n",
       "      <td>0</td>\n",
       "      <td>751</td>\n",
       "      <td>2.0</td>\n",
       "    </tr>\n",
       "    <tr>\n",
       "      <th>2</th>\n",
       "      <td>1</td>\n",
       "      <td>3073</td>\n",
       "      <td>7.0</td>\n",
       "    </tr>\n",
       "    <tr>\n",
       "      <th>3</th>\n",
       "      <td>2</td>\n",
       "      <td>2384</td>\n",
       "      <td>5.0</td>\n",
       "    </tr>\n",
       "    <tr>\n",
       "      <th>4</th>\n",
       "      <td>3</td>\n",
       "      <td>4986</td>\n",
       "      <td>11.0</td>\n",
       "    </tr>\n",
       "    <tr>\n",
       "      <th>5</th>\n",
       "      <td>4</td>\n",
       "      <td>3231</td>\n",
       "      <td>7.0</td>\n",
       "    </tr>\n",
       "    <tr>\n",
       "      <th>6</th>\n",
       "      <td>5</td>\n",
       "      <td>382</td>\n",
       "      <td>1.0</td>\n",
       "    </tr>\n",
       "    <tr>\n",
       "      <th>7</th>\n",
       "      <td>9</td>\n",
       "      <td>15738</td>\n",
       "      <td>36.0</td>\n",
       "    </tr>\n",
       "  </tbody>\n",
       "</table>\n",
       "</div>"
      ],
      "text/plain": [
       "  CS_ESCOL_N  Count_caso  Percent_caso\n",
       "0       None       13361          30.0\n",
       "1          0         751           2.0\n",
       "2          1        3073           7.0\n",
       "3          2        2384           5.0\n",
       "4          3        4986          11.0\n",
       "5          4        3231           7.0\n",
       "6          5         382           1.0\n",
       "7          9       15738          36.0"
      ]
     },
     "execution_count": 20,
     "metadata": {},
     "output_type": "execute_result"
    }
   ],
   "source": [
    "table4 = sdf3.groupBy('CS_ESCOL_N').agg(sf.count('SG_UF_NOT').alias('Count_caso'),round(sf.sum('percent')*100).alias('Percent_caso'))\\\n",
    "    .orderBy('CS_ESCOL_N', ascending=True).toPandas()\n",
    "\n",
    "table4"
   ]
  },
  {
   "cell_type": "code",
   "execution_count": 21,
   "metadata": {
    "ExecuteTime": {
     "end_time": "2020-06-14T16:13:13.514455Z",
     "start_time": "2020-06-14T16:13:13.282266Z"
    }
   },
   "outputs": [
    {
     "data": {
      "text/plain": [
       "<matplotlib.axes._subplots.AxesSubplot at 0x7f01faa005d0>"
      ]
     },
     "execution_count": 21,
     "metadata": {},
     "output_type": "execute_result"
    },
    {
     "data": {
      "image/png": "[encoded data removed]",
      "text/plain": [
       "<Figure size 576x360 with 1 Axes>"
      ]
     },
     "metadata": {
      "needs_background": "light"
     },
     "output_type": "display_data"
    }
   ],
   "source": [
    "table4.plot(x ='CS_ESCOL_N', y='Percent_caso', kind = 'bar',figsize = (8,5), title = 'Casos por escolaridade')"
   ]
  },
  {
   "cell_type": "markdown",
   "metadata": {
    "ExecuteTime": {
     "end_time": "2020-06-13T16:37:28.435841Z",
     "start_time": "2020-06-13T16:37:28.431451Z"
    }
   },
   "source": [
    "Novamente vemos a falta de coleta de dados para a maioria dos casos (68%).<br>\n",
    "Também vemos uma crescente dos números de caso conforme vai aumentando a escolaridade até chegar no 3-Ensino médio e caindo no 4-Ensino Superior."
   ]
  },
  {
   "cell_type": "markdown",
   "metadata": {},
   "source": [
    "Mortes por escolaridade:"
   ]
  },
  {
   "cell_type": "code",
   "execution_count": 22,
   "metadata": {
    "ExecuteTime": {
     "end_time": "2020-06-14T16:13:15.211695Z",
     "start_time": "2020-06-14T16:13:13.516341Z"
    }
   },
   "outputs": [
    {
     "data": {
      "text/html": [
       "<div>\n",
       "<style scoped>\n",
       "    .dataframe tbody tr th:only-of-type {\n",
       "        vertical-align: middle;\n",
       "    }\n",
       "\n",
       "    .dataframe tbody tr th {\n",
       "        vertical-align: top;\n",
       "    }\n",
       "\n",
       "    .dataframe thead th {\n",
       "        text-align: right;\n",
       "    }\n",
       "</style>\n",
       "<table border=\"1\" class=\"dataframe\">\n",
       "  <thead>\n",
       "    <tr style=\"text-align: right;\">\n",
       "      <th></th>\n",
       "      <th>CS_ESCOL_N</th>\n",
       "      <th>EVOLUCAO</th>\n",
       "      <th>Count_morte</th>\n",
       "      <th>Percent_morte</th>\n",
       "    </tr>\n",
       "  </thead>\n",
       "  <tbody>\n",
       "    <tr>\n",
       "      <th>0</th>\n",
       "      <td>None</td>\n",
       "      <td>2</td>\n",
       "      <td>4341</td>\n",
       "      <td>32.0</td>\n",
       "    </tr>\n",
       "    <tr>\n",
       "      <th>1</th>\n",
       "      <td>0</td>\n",
       "      <td>2</td>\n",
       "      <td>395</td>\n",
       "      <td>3.0</td>\n",
       "    </tr>\n",
       "    <tr>\n",
       "      <th>2</th>\n",
       "      <td>1</td>\n",
       "      <td>2</td>\n",
       "      <td>1259</td>\n",
       "      <td>9.0</td>\n",
       "    </tr>\n",
       "    <tr>\n",
       "      <th>3</th>\n",
       "      <td>2</td>\n",
       "      <td>2</td>\n",
       "      <td>808</td>\n",
       "      <td>6.0</td>\n",
       "    </tr>\n",
       "    <tr>\n",
       "      <th>4</th>\n",
       "      <td>3</td>\n",
       "      <td>2</td>\n",
       "      <td>1198</td>\n",
       "      <td>9.0</td>\n",
       "    </tr>\n",
       "    <tr>\n",
       "      <th>5</th>\n",
       "      <td>4</td>\n",
       "      <td>2</td>\n",
       "      <td>488</td>\n",
       "      <td>4.0</td>\n",
       "    </tr>\n",
       "    <tr>\n",
       "      <th>6</th>\n",
       "      <td>5</td>\n",
       "      <td>2</td>\n",
       "      <td>33</td>\n",
       "      <td>0.0</td>\n",
       "    </tr>\n",
       "    <tr>\n",
       "      <th>7</th>\n",
       "      <td>9</td>\n",
       "      <td>2</td>\n",
       "      <td>5036</td>\n",
       "      <td>37.0</td>\n",
       "    </tr>\n",
       "  </tbody>\n",
       "</table>\n",
       "</div>"
      ],
      "text/plain": [
       "  CS_ESCOL_N EVOLUCAO  Count_morte  Percent_morte\n",
       "0       None        2         4341           32.0\n",
       "1          0        2          395            3.0\n",
       "2          1        2         1259            9.0\n",
       "3          2        2          808            6.0\n",
       "4          3        2         1198            9.0\n",
       "5          4        2          488            4.0\n",
       "6          5        2           33            0.0\n",
       "7          9        2         5036           37.0"
      ]
     },
     "execution_count": 22,
     "metadata": {},
     "output_type": "execute_result"
    }
   ],
   "source": [
    "table4_2 = sdf3.groupBy('CS_ESCOL_N','EVOLUCAO').agg(sf.count('SG_UF_NOT').alias('Count_morte'))\\\n",
    "            .where(sdf3['EVOLUCAO']=='2').orderBy('CS_ESCOL_N', ascending=True)\\\n",
    "            .withColumn('Percent_morte', round(100*sf.col('Count_morte')/sf.sum('Count_morte').over(Window.partitionBy())))\\\n",
    "            .toPandas()\n",
    "table4_2"
   ]
  },
  {
   "cell_type": "code",
   "execution_count": 23,
   "metadata": {
    "ExecuteTime": {
     "end_time": "2020-06-14T16:13:15.431838Z",
     "start_time": "2020-06-14T16:13:15.216491Z"
    }
   },
   "outputs": [
    {
     "data": {
      "text/plain": [
       "<matplotlib.axes._subplots.AxesSubplot at 0x7f01fa9bed10>"
      ]
     },
     "execution_count": 23,
     "metadata": {},
     "output_type": "execute_result"
    },
    {
     "data": {
      "image/png": "[encoded data removed]",
      "text/plain": [
       "<Figure size 576x360 with 1 Axes>"
      ]
     },
     "metadata": {
      "needs_background": "light"
     },
     "output_type": "display_data"
    }
   ],
   "source": [
    "table4_3 = pd.concat([table4, table4_2.drop(['CS_ESCOL_N'], axis=1)], axis=1, sort=False,join='inner')\n",
    "\n",
    "table4_3.plot(x ='CS_ESCOL_N', y= ['Percent_caso','Percent_morte'], kind = 'bar',figsize = (8,5),\\\n",
    "              title = \"Casos e Mortes por Escolaridade\" )"
   ]
  },
  {
   "cell_type": "markdown",
   "metadata": {},
   "source": [
    "Analisando as mortes, vemos um crescimento na concentração nas menores escolaridades (0-Analfabeto,1-Fundamental1,2-Fundamental2) e diminuição nas demais (3-Ensino médio e caindo no 4-Ensino Superior)"
   ]
  },
  {
   "cell_type": "markdown",
   "metadata": {},
   "source": [
    "### Análise por faixa etária do paciente:\n",
    "\n",
    "Para fazer análise por faixa etária, vamos criar a classificação agrupando as idades a cada 20 anos. Para essa construção temos que levar em conta que a idade é apresentada em dia, meses ou anos de acordo com a variável TP_IDADE"
   ]
  },
  {
   "cell_type": "code",
   "execution_count": 24,
   "metadata": {
    "ExecuteTime": {
     "end_time": "2020-06-14T16:13:15.544459Z",
     "start_time": "2020-06-14T16:13:15.434523Z"
    }
   },
   "outputs": [],
   "source": [
    "sdf3 = sdf3.withColumn('FX_IDADE', sf.when(col('TP_IDADE') == '1', '0-20').when(col('TP_IDADE') == '2', '0-20')\\\n",
    "                      .when((col('TP_IDADE') == '3') & (col('NU_IDADE_N') <= 19), '0-20')\\\n",
    "                      .when((col('TP_IDADE') == '3') & (col('NU_IDADE_N') <= 40), '21-40')\\\n",
    "                      .when((col('TP_IDADE') == '3') & (col('NU_IDADE_N') <= 60), '41-60')\\\n",
    "                      .when((col('TP_IDADE') == '3') & (col('NU_IDADE_N') <= 80), '61-80')\\\n",
    "                      .when((col('TP_IDADE') == '3') & (col('NU_IDADE_N') > 80), '80+')\\\n",
    "                      )"
   ]
  },
  {
   "cell_type": "code",
   "execution_count": 25,
   "metadata": {
    "ExecuteTime": {
     "end_time": "2020-06-14T16:13:15.819516Z",
     "start_time": "2020-06-14T16:13:15.546804Z"
    }
   },
   "outputs": [
    {
     "name": "stdout",
     "output_type": "stream",
     "text": [
      "+----------+--------+--------+\n",
      "|NU_IDADE_N|TP_IDADE|FX_IDADE|\n",
      "+----------+--------+--------+\n",
      "|        75|       3|   61-80|\n",
      "|        28|       3|   21-40|\n",
      "|        77|       3|   61-80|\n",
      "|        37|       3|   21-40|\n",
      "|        69|       3|   61-80|\n",
      "+----------+--------+--------+\n",
      "only showing top 5 rows\n",
      "\n"
     ]
    }
   ],
   "source": [
    "sdf3.select('NU_IDADE_N','TP_IDADE','FX_IDADE').where(sdf3['TP_IDADE'] == 3).show(5)"
   ]
  },
  {
   "cell_type": "markdown",
   "metadata": {},
   "source": [
    "Com a variável faixa de idade criada podemos analisar o número de casos COVID:"
   ]
  },
  {
   "cell_type": "code",
   "execution_count": 26,
   "metadata": {
    "ExecuteTime": {
     "end_time": "2020-06-14T16:13:17.554865Z",
     "start_time": "2020-06-14T16:13:15.821538Z"
    }
   },
   "outputs": [
    {
     "data": {
      "text/html": [
       "<div>\n",
       "<style scoped>\n",
       "    .dataframe tbody tr th:only-of-type {\n",
       "        vertical-align: middle;\n",
       "    }\n",
       "\n",
       "    .dataframe tbody tr th {\n",
       "        vertical-align: top;\n",
       "    }\n",
       "\n",
       "    .dataframe thead th {\n",
       "        text-align: right;\n",
       "    }\n",
       "</style>\n",
       "<table border=\"1\" class=\"dataframe\">\n",
       "  <thead>\n",
       "    <tr style=\"text-align: right;\">\n",
       "      <th></th>\n",
       "      <th>FX_IDADE</th>\n",
       "      <th>Count_caso</th>\n",
       "      <th>Percent_caso</th>\n",
       "    </tr>\n",
       "  </thead>\n",
       "  <tbody>\n",
       "    <tr>\n",
       "      <th>0</th>\n",
       "      <td>0-20</td>\n",
       "      <td>821</td>\n",
       "      <td>2.0</td>\n",
       "    </tr>\n",
       "    <tr>\n",
       "      <th>1</th>\n",
       "      <td>21-40</td>\n",
       "      <td>7612</td>\n",
       "      <td>17.0</td>\n",
       "    </tr>\n",
       "    <tr>\n",
       "      <th>2</th>\n",
       "      <td>41-60</td>\n",
       "      <td>15785</td>\n",
       "      <td>36.0</td>\n",
       "    </tr>\n",
       "    <tr>\n",
       "      <th>3</th>\n",
       "      <td>61-80</td>\n",
       "      <td>14649</td>\n",
       "      <td>33.0</td>\n",
       "    </tr>\n",
       "    <tr>\n",
       "      <th>4</th>\n",
       "      <td>80+</td>\n",
       "      <td>5039</td>\n",
       "      <td>11.0</td>\n",
       "    </tr>\n",
       "  </tbody>\n",
       "</table>\n",
       "</div>"
      ],
      "text/plain": [
       "  FX_IDADE  Count_caso  Percent_caso\n",
       "0     0-20         821           2.0\n",
       "1    21-40        7612          17.0\n",
       "2    41-60       15785          36.0\n",
       "3    61-80       14649          33.0\n",
       "4      80+        5039          11.0"
      ]
     },
     "execution_count": 26,
     "metadata": {},
     "output_type": "execute_result"
    }
   ],
   "source": [
    "table_idade = sdf3.groupBy('FX_IDADE').agg(sf.count('SG_UF_NOT').alias('Count_caso'),round(sf.sum('percent')*100).alias('Percent_caso'))\\\n",
    "    .orderBy('FX_IDADE', ascending=True).toPandas()\n",
    "\n",
    "table_idade"
   ]
  },
  {
   "cell_type": "code",
   "execution_count": 27,
   "metadata": {
    "ExecuteTime": {
     "end_time": "2020-06-14T16:13:17.726330Z",
     "start_time": "2020-06-14T16:13:17.556861Z"
    }
   },
   "outputs": [
    {
     "data": {
      "text/plain": [
       "<matplotlib.axes._subplots.AxesSubplot at 0x7f01fa8f7dd0>"
      ]
     },
     "execution_count": 27,
     "metadata": {},
     "output_type": "execute_result"
    },
    {
     "data": {
      "image/png": "[encoded data removed]",
      "text/plain": [
       "<Figure size 576x360 with 1 Axes>"
      ]
     },
     "metadata": {
      "needs_background": "light"
     },
     "output_type": "display_data"
    }
   ],
   "source": [
    "table_idade.plot('FX_IDADE', y='Percent_caso', kind = 'bar',figsize = (8,5), title = 'Casos por faixa de idade')"
   ]
  },
  {
   "cell_type": "markdown",
   "metadata": {},
   "source": [
    "Vemos que a maior parte dos casos estão concentrados principamente na faixa do 40 aos 80 anos.\n",
    "\n",
    "Mortes por faixa etária:"
   ]
  },
  {
   "cell_type": "code",
   "execution_count": 28,
   "metadata": {
    "ExecuteTime": {
     "end_time": "2020-06-14T16:13:19.311394Z",
     "start_time": "2020-06-14T16:13:17.728235Z"
    }
   },
   "outputs": [
    {
     "data": {
      "text/html": [
       "<div>\n",
       "<style scoped>\n",
       "    .dataframe tbody tr th:only-of-type {\n",
       "        vertical-align: middle;\n",
       "    }\n",
       "\n",
       "    .dataframe tbody tr th {\n",
       "        vertical-align: top;\n",
       "    }\n",
       "\n",
       "    .dataframe thead th {\n",
       "        text-align: right;\n",
       "    }\n",
       "</style>\n",
       "<table border=\"1\" class=\"dataframe\">\n",
       "  <thead>\n",
       "    <tr style=\"text-align: right;\">\n",
       "      <th></th>\n",
       "      <th>FX_IDADE</th>\n",
       "      <th>EVOLUCAO</th>\n",
       "      <th>Count_morte</th>\n",
       "      <th>Percent_morte</th>\n",
       "    </tr>\n",
       "  </thead>\n",
       "  <tbody>\n",
       "    <tr>\n",
       "      <th>0</th>\n",
       "      <td>0-20</td>\n",
       "      <td>2</td>\n",
       "      <td>81</td>\n",
       "      <td>1.0</td>\n",
       "    </tr>\n",
       "    <tr>\n",
       "      <th>1</th>\n",
       "      <td>21-40</td>\n",
       "      <td>2</td>\n",
       "      <td>804</td>\n",
       "      <td>6.0</td>\n",
       "    </tr>\n",
       "    <tr>\n",
       "      <th>2</th>\n",
       "      <td>41-60</td>\n",
       "      <td>2</td>\n",
       "      <td>3270</td>\n",
       "      <td>24.0</td>\n",
       "    </tr>\n",
       "    <tr>\n",
       "      <th>3</th>\n",
       "      <td>61-80</td>\n",
       "      <td>2</td>\n",
       "      <td>6322</td>\n",
       "      <td>47.0</td>\n",
       "    </tr>\n",
       "    <tr>\n",
       "      <th>4</th>\n",
       "      <td>80+</td>\n",
       "      <td>2</td>\n",
       "      <td>3081</td>\n",
       "      <td>23.0</td>\n",
       "    </tr>\n",
       "  </tbody>\n",
       "</table>\n",
       "</div>"
      ],
      "text/plain": [
       "  FX_IDADE EVOLUCAO  Count_morte  Percent_morte\n",
       "0     0-20        2           81            1.0\n",
       "1    21-40        2          804            6.0\n",
       "2    41-60        2         3270           24.0\n",
       "3    61-80        2         6322           47.0\n",
       "4      80+        2         3081           23.0"
      ]
     },
     "execution_count": 28,
     "metadata": {},
     "output_type": "execute_result"
    }
   ],
   "source": [
    "table_idade2 = sdf3.groupBy('FX_IDADE','EVOLUCAO').agg(sf.count('SG_UF_NOT').alias('Count_morte'))\\\n",
    "            .where(sdf3['EVOLUCAO']=='2').orderBy('FX_IDADE', ascending=True)\\\n",
    "            .withColumn('Percent_morte', round(100*sf.col('Count_morte')/sf.sum('Count_morte').over(Window.partitionBy())))\\\n",
    "            .toPandas()\n",
    "table_idade2"
   ]
  },
  {
   "cell_type": "code",
   "execution_count": 29,
   "metadata": {
    "ExecuteTime": {
     "end_time": "2020-06-14T16:13:19.491630Z",
     "start_time": "2020-06-14T16:13:19.313201Z"
    }
   },
   "outputs": [
    {
     "data": {
      "text/plain": [
       "<matplotlib.axes._subplots.AxesSubplot at 0x7f01fa8b2f10>"
      ]
     },
     "execution_count": 29,
     "metadata": {},
     "output_type": "execute_result"
    },
    {
     "data": {
      "image/png": "[encoded data removed]",
      "text/plain": [
       "<Figure size 576x360 with 1 Axes>"
      ]
     },
     "metadata": {
      "needs_background": "light"
     },
     "output_type": "display_data"
    }
   ],
   "source": [
    "table_idade3 = pd.concat([table_idade, table_idade2.drop(['FX_IDADE'], axis=1)], axis=1, sort=False,join='inner')\n",
    "\n",
    "table_idade3.plot(x ='FX_IDADE', y= ['Percent_caso','Percent_morte'], kind = 'bar',figsize = (8,5),\\\n",
    "              title = \"Casos e Mortes por faixa de idade\" )"
   ]
  },
  {
   "cell_type": "markdown",
   "metadata": {},
   "source": [
    "Analisando as mortes, vemos claramente um aumento na incidência da faixas de 61 anos ou mais."
   ]
  },
  {
   "cell_type": "markdown",
   "metadata": {
    "ExecuteTime": {
     "end_time": "2020-06-13T16:47:22.925002Z",
     "start_time": "2020-06-13T16:47:22.921725Z"
    }
   },
   "source": [
    "# Análise dos sitomas"
   ]
  },
  {
   "cell_type": "markdown",
   "metadata": {},
   "source": [
    "Para a análise dos sintomas, vamos duplicar e limpar as variáveis de sintomas para que apresentem apenas os casos confirmados (=1) igualando as demais informações a zero"
   ]
  },
  {
   "cell_type": "code",
   "execution_count": 30,
   "metadata": {
    "ExecuteTime": {
     "end_time": "2020-06-14T16:13:19.497922Z",
     "start_time": "2020-06-14T16:13:19.493687Z"
    }
   },
   "outputs": [],
   "source": [
    "colunas = ['FEBRE','TOSSE','GARGANTA','DISPNEIA','DESC_RESP','SATURACAO','DIARREIA','VOMITO']\n",
    "colunas2 = ['FEBRE2','TOSSE2','GARGANTA2','DISPNEIA2','DESC_RESP2','SATURACAO2','DIARREIA2','VOMITO2']"
   ]
  },
  {
   "cell_type": "code",
   "execution_count": 31,
   "metadata": {
    "ExecuteTime": {
     "end_time": "2020-06-14T16:13:19.650341Z",
     "start_time": "2020-06-14T16:13:19.500137Z"
    }
   },
   "outputs": [],
   "source": [
    "sdf4 = sdf3\n",
    "for old, new in zip(colunas, colunas2):\n",
    "    sdf4 = sdf4.withColumn(new, sf.when(col(old) == '1', 1).otherwise(0))"
   ]
  },
  {
   "cell_type": "code",
   "execution_count": 32,
   "metadata": {
    "ExecuteTime": {
     "end_time": "2020-06-14T16:13:19.927728Z",
     "start_time": "2020-06-14T16:13:19.652432Z"
    }
   },
   "outputs": [
    {
     "name": "stdout",
     "output_type": "stream",
     "text": [
      "+------+------+---------+---------+----------+----------+---------+-------+\n",
      "|FEBRE2|TOSSE2|GARGANTA2|DISPNEIA2|DESC_RESP2|SATURACAO2|DIARREIA2|VOMITO2|\n",
      "+------+------+---------+---------+----------+----------+---------+-------+\n",
      "|     0|     1|        0|        1|         0|         0|        0|      0|\n",
      "|     1|     1|        1|        0|         0|         0|        0|      0|\n",
      "|     1|     1|        0|        1|         0|         1|        1|      1|\n",
      "|     1|     1|        1|        0|         1|         0|        1|      1|\n",
      "|     1|     1|        0|        1|         1|         1|        1|      0|\n",
      "+------+------+---------+---------+----------+----------+---------+-------+\n",
      "only showing top 5 rows\n",
      "\n"
     ]
    }
   ],
   "source": [
    "sdf4.select(colunas2).show(5)"
   ]
  },
  {
   "cell_type": "markdown",
   "metadata": {
    "ExecuteTime": {
     "end_time": "2020-06-13T16:51:53.600893Z",
     "start_time": "2020-06-13T16:51:53.596627Z"
    }
   },
   "source": [
    "Vamos criar a tabela resumo com a quantidade de pessoas que apresentaram cada sintoma, agrupado pela Evolução do paciente."
   ]
  },
  {
   "cell_type": "code",
   "execution_count": 33,
   "metadata": {
    "ExecuteTime": {
     "end_time": "2020-06-14T16:13:19.975243Z",
     "start_time": "2020-06-14T16:13:19.929896Z"
    }
   },
   "outputs": [],
   "source": [
    "table5 = sdf4.groupBy('EVOLUCAO').agg(sf.count('CS_SEXO'),sf.sum('FEBRE2'),sf.sum('TOSSE2'),\\\n",
    "                             sf.sum('GARGANTA2'),sf.sum('DISPNEIA2'),sf.sum('DESC_RESP2')\\\n",
    "                            ,sf.sum('SATURACAO2'),sf.sum('DIARREIA2'),sf.sum('VOMITO2'))\\\n",
    "        .orderBy('EVOLUCAO', ascending=True)\n"
   ]
  },
  {
   "cell_type": "markdown",
   "metadata": {},
   "source": [
    "E vamos adicionar o percentual da ocorrência dos sintomas por Evolução do paciente"
   ]
  },
  {
   "cell_type": "code",
   "execution_count": 34,
   "metadata": {
    "ExecuteTime": {
     "end_time": "2020-06-14T16:13:22.805652Z",
     "start_time": "2020-06-14T16:13:19.977302Z"
    }
   },
   "outputs": [
    {
     "data": {
      "text/html": [
       "<div>\n",
       "<style scoped>\n",
       "    .dataframe tbody tr th:only-of-type {\n",
       "        vertical-align: middle;\n",
       "    }\n",
       "\n",
       "    .dataframe tbody tr th {\n",
       "        vertical-align: top;\n",
       "    }\n",
       "\n",
       "    .dataframe thead th {\n",
       "        text-align: right;\n",
       "    }\n",
       "</style>\n",
       "<table border=\"1\" class=\"dataframe\">\n",
       "  <thead>\n",
       "    <tr style=\"text-align: right;\">\n",
       "      <th></th>\n",
       "      <th>COUNT%</th>\n",
       "      <th>FEBRE%</th>\n",
       "      <th>TOSSE%</th>\n",
       "      <th>GARGANTA%</th>\n",
       "      <th>DISPNEIA%</th>\n",
       "      <th>DESC_RESP%</th>\n",
       "      <th>SATURACAO%</th>\n",
       "      <th>DIARREIA%</th>\n",
       "      <th>VOMITO%</th>\n",
       "    </tr>\n",
       "  </thead>\n",
       "  <tbody>\n",
       "    <tr>\n",
       "      <th>0</th>\n",
       "      <td>27.0</td>\n",
       "      <td>27.0</td>\n",
       "      <td>27.0</td>\n",
       "      <td>26.0</td>\n",
       "      <td>26.0</td>\n",
       "      <td>25.0</td>\n",
       "      <td>26.0</td>\n",
       "      <td>28.0</td>\n",
       "      <td>27.0</td>\n",
       "    </tr>\n",
       "    <tr>\n",
       "      <th>1</th>\n",
       "      <td>37.0</td>\n",
       "      <td>39.0</td>\n",
       "      <td>39.0</td>\n",
       "      <td>44.0</td>\n",
       "      <td>35.0</td>\n",
       "      <td>34.0</td>\n",
       "      <td>31.0</td>\n",
       "      <td>43.0</td>\n",
       "      <td>42.0</td>\n",
       "    </tr>\n",
       "    <tr>\n",
       "      <th>2</th>\n",
       "      <td>31.0</td>\n",
       "      <td>29.0</td>\n",
       "      <td>29.0</td>\n",
       "      <td>25.0</td>\n",
       "      <td>34.0</td>\n",
       "      <td>35.0</td>\n",
       "      <td>38.0</td>\n",
       "      <td>23.0</td>\n",
       "      <td>25.0</td>\n",
       "    </tr>\n",
       "    <tr>\n",
       "      <th>3</th>\n",
       "      <td>5.0</td>\n",
       "      <td>5.0</td>\n",
       "      <td>5.0</td>\n",
       "      <td>5.0</td>\n",
       "      <td>5.0</td>\n",
       "      <td>5.0</td>\n",
       "      <td>5.0</td>\n",
       "      <td>5.0</td>\n",
       "      <td>5.0</td>\n",
       "    </tr>\n",
       "  </tbody>\n",
       "</table>\n",
       "</div>"
      ],
      "text/plain": [
       "   COUNT%  FEBRE%  TOSSE%  GARGANTA%  DISPNEIA%  DESC_RESP%  SATURACAO%  \\\n",
       "0    27.0    27.0    27.0       26.0       26.0        25.0        26.0   \n",
       "1    37.0    39.0    39.0       44.0       35.0        34.0        31.0   \n",
       "2    31.0    29.0    29.0       25.0       34.0        35.0        38.0   \n",
       "3     5.0     5.0     5.0        5.0        5.0         5.0         5.0   \n",
       "\n",
       "   DIARREIA%  VOMITO%  \n",
       "0       28.0     27.0  \n",
       "1       43.0     42.0  \n",
       "2       23.0     25.0  \n",
       "3        5.0      5.0  "
      ]
     },
     "execution_count": 34,
     "metadata": {},
     "output_type": "execute_result"
    }
   ],
   "source": [
    "coluna = ['count(CS_SEXO)','sum(FEBRE2)','sum(TOSSE2)','sum(GARGANTA2)','sum(DISPNEIA2)','sum(DESC_RESP2)','sum(SATURACAO2)','sum(DIARREIA2)','sum(VOMITO2)']\n",
    "coluna2 = ['COUNT%','FEBRE%','TOSSE%','GARGANTA%','DISPNEIA%','DESC_RESP%','SATURACAO%','DIARREIA%','VOMITO%']\n",
    "\n",
    "for old, new in zip(coluna, coluna2):\n",
    "    table5 = table5.withColumn(new, round(100*sf.col(old)/sf.sum(old).over(Window.partitionBy())))\n",
    "    \n",
    "table5.select(coluna2).toPandas()"
   ]
  },
  {
   "cell_type": "markdown",
   "metadata": {},
   "source": [
    "Observamos que pacientes com Dispnéia, Desconforto respiratório, Saturação O2 menor que 95% apresentam maior taxa de 2-mortalidade que a amostra total (de 31%).\n",
    "Por outro lado, sintomas como Febre, Tosse, Dor de garganta, Diarréia e Vómito não apresentam impacto na mortalidade dos pacientes."
   ]
  },
  {
   "cell_type": "markdown",
   "metadata": {
    "ExecuteTime": {
     "end_time": "2020-06-13T16:53:46.070332Z",
     "start_time": "2020-06-13T16:53:46.067774Z"
    }
   },
   "source": [
    "# Perfil da população mais suscetível à morte"
   ]
  },
  {
   "cell_type": "markdown",
   "metadata": {},
   "source": [
    "Na etapa 4 - 'Analise o número de casos e mortes' já concluímos que pessoas com mais de 60 anos, baixa escolaridade, cor preta ou parda estão mais sucetíveis a morrer pelo COVID-19. Agora vamos analisar a vulnerabilidade dos pacientes hispotalizados por fatores de risco."
   ]
  },
  {
   "cell_type": "markdown",
   "metadata": {},
   "source": [
    "Para a análise dos fatores de risco, vamos usar os mesmos passos da análise de sintomas. Vamos duplicar e limpar as variáveis para que apresentem apenas os casos confirmados (=1) igualando as demais informações a zero"
   ]
  },
  {
   "cell_type": "code",
   "execution_count": 35,
   "metadata": {
    "ExecuteTime": {
     "end_time": "2020-06-14T16:13:23.053308Z",
     "start_time": "2020-06-14T16:13:22.807897Z"
    }
   },
   "outputs": [],
   "source": [
    "risco = ['PUERPERA','CARDIOPATI','HEMATOLOGI','SIND_DOWN','HEPATICA','ASMA','DIABETES','NEUROLOGIC','PNEUMOPATI','IMUNODEPRE','RENAL','OBESIDADE','OUT_MORBI']\n",
    "risco2 = ['PUERPERA2','CARDIOPATI2','HEMATOLOGI2','SIND_DOWN2','HEPATICA2','ASMA2','DIABETES2','NEUROLOGIC2','PNEUMOPATI2','IMUNODEPRE2','RENAL2','OBESIDADE2','OUT_MORBI2']\n",
    "\n",
    "sdf5 = sdf4\n",
    "for old, new in zip(risco, risco2):\n",
    "    sdf5 = sdf5.withColumn(new, sf.when(col(old) == '1', 1).otherwise(0))"
   ]
  },
  {
   "cell_type": "code",
   "execution_count": 36,
   "metadata": {
    "ExecuteTime": {
     "end_time": "2020-06-14T16:13:23.383685Z",
     "start_time": "2020-06-14T16:13:23.055265Z"
    }
   },
   "outputs": [
    {
     "name": "stdout",
     "output_type": "stream",
     "text": [
      "+---------+-----------+-----------+----------+---------+-----+---------+-----------+-----------+-----------+------+----------+----------+\n",
      "|PUERPERA2|CARDIOPATI2|HEMATOLOGI2|SIND_DOWN2|HEPATICA2|ASMA2|DIABETES2|NEUROLOGIC2|PNEUMOPATI2|IMUNODEPRE2|RENAL2|OBESIDADE2|OUT_MORBI2|\n",
      "+---------+-----------+-----------+----------+---------+-----+---------+-----------+-----------+-----------+------+----------+----------+\n",
      "|        0|          0|          0|         0|        0|    0|        0|          0|          0|          0|     0|         0|         0|\n",
      "|        0|          0|          0|         0|        0|    0|        0|          0|          0|          0|     0|         0|         0|\n",
      "|        0|          1|          1|         0|        0|    0|        0|          0|          1|          1|     1|         0|         1|\n",
      "|        0|          0|          0|         0|        0|    0|        0|          0|          0|          0|     0|         0|         1|\n",
      "|        0|          0|          0|         0|        0|    0|        1|          0|          0|          0|     0|         0|         1|\n",
      "+---------+-----------+-----------+----------+---------+-----+---------+-----------+-----------+-----------+------+----------+----------+\n",
      "only showing top 5 rows\n",
      "\n"
     ]
    }
   ],
   "source": [
    "sdf5.select(risco2).show(5)"
   ]
  },
  {
   "cell_type": "markdown",
   "metadata": {
    "ExecuteTime": {
     "end_time": "2020-06-13T17:48:56.787862Z",
     "start_time": "2020-06-13T17:48:56.783604Z"
    }
   },
   "source": [
    "Vamos criar a tabela resumo com a quantidade de pessoas que apresentaram cada fator, agrupado pela Evolução do paciente."
   ]
  },
  {
   "cell_type": "code",
   "execution_count": 37,
   "metadata": {
    "ExecuteTime": {
     "end_time": "2020-06-14T16:13:23.462220Z",
     "start_time": "2020-06-14T16:13:23.385643Z"
    }
   },
   "outputs": [],
   "source": [
    "table6 = sdf5.groupBy('EVOLUCAO').agg(sf.count('CS_SEXO'),sf.sum('PUERPERA2'),sf.sum('CARDIOPATI2'),\\\n",
    "                             sf.sum('HEMATOLOGI2'),sf.sum('SIND_DOWN2'),sf.sum('HEPATICA2')\\\n",
    "                            ,sf.sum('ASMA2'),sf.sum('DIABETES2'),sf.sum('NEUROLOGIC2')\\\n",
    "                            ,sf.sum('PNEUMOPATI2'),sf.sum('IMUNODEPRE2'),sf.sum('RENAL2')\\\n",
    "                            ,sf.sum('OBESIDADE2'),sf.sum('OUT_MORBI2'))\\\n",
    "                        .orderBy('EVOLUCAO', ascending=True)\n"
   ]
  },
  {
   "cell_type": "markdown",
   "metadata": {
    "ExecuteTime": {
     "end_time": "2020-06-13T17:50:03.590674Z",
     "start_time": "2020-06-13T17:50:03.586915Z"
    }
   },
   "source": [
    "E vamos adicionar o percentual da ocorrência dos Fatores por Evolução do paciente"
   ]
  },
  {
   "cell_type": "code",
   "execution_count": 38,
   "metadata": {
    "ExecuteTime": {
     "end_time": "2020-06-14T16:13:27.016420Z",
     "start_time": "2020-06-14T16:13:23.464679Z"
    }
   },
   "outputs": [
    {
     "data": {
      "text/html": [
       "<div>\n",
       "<style scoped>\n",
       "    .dataframe tbody tr th:only-of-type {\n",
       "        vertical-align: middle;\n",
       "    }\n",
       "\n",
       "    .dataframe tbody tr th {\n",
       "        vertical-align: top;\n",
       "    }\n",
       "\n",
       "    .dataframe thead th {\n",
       "        text-align: right;\n",
       "    }\n",
       "</style>\n",
       "<table border=\"1\" class=\"dataframe\">\n",
       "  <thead>\n",
       "    <tr style=\"text-align: right;\">\n",
       "      <th></th>\n",
       "      <th>Count%</th>\n",
       "      <th>PUERPERA%</th>\n",
       "      <th>CARDIOPATI%</th>\n",
       "      <th>HEMATOLOGI%</th>\n",
       "      <th>SIND_DOWN%</th>\n",
       "      <th>HEPATICA%</th>\n",
       "      <th>ASMA%</th>\n",
       "      <th>DIABETES%</th>\n",
       "      <th>NEUROLOGIC%</th>\n",
       "      <th>PNEUMOPATI%</th>\n",
       "      <th>IMUNODEPRE%</th>\n",
       "      <th>RENAL%</th>\n",
       "      <th>OBESIDADE%</th>\n",
       "      <th>OUT_MORBI%</th>\n",
       "    </tr>\n",
       "  </thead>\n",
       "  <tbody>\n",
       "    <tr>\n",
       "      <th>0</th>\n",
       "      <td>27.0</td>\n",
       "      <td>23.0</td>\n",
       "      <td>26.0</td>\n",
       "      <td>27.0</td>\n",
       "      <td>19.0</td>\n",
       "      <td>26.0</td>\n",
       "      <td>29.0</td>\n",
       "      <td>25.0</td>\n",
       "      <td>26.0</td>\n",
       "      <td>24.0</td>\n",
       "      <td>27.0</td>\n",
       "      <td>25.0</td>\n",
       "      <td>28.0</td>\n",
       "      <td>25.0</td>\n",
       "    </tr>\n",
       "    <tr>\n",
       "      <th>1</th>\n",
       "      <td>37.0</td>\n",
       "      <td>49.0</td>\n",
       "      <td>30.0</td>\n",
       "      <td>24.0</td>\n",
       "      <td>30.0</td>\n",
       "      <td>23.0</td>\n",
       "      <td>44.0</td>\n",
       "      <td>29.0</td>\n",
       "      <td>19.0</td>\n",
       "      <td>26.0</td>\n",
       "      <td>29.0</td>\n",
       "      <td>19.0</td>\n",
       "      <td>32.0</td>\n",
       "      <td>32.0</td>\n",
       "    </tr>\n",
       "    <tr>\n",
       "      <th>2</th>\n",
       "      <td>31.0</td>\n",
       "      <td>18.0</td>\n",
       "      <td>40.0</td>\n",
       "      <td>45.0</td>\n",
       "      <td>44.0</td>\n",
       "      <td>48.0</td>\n",
       "      <td>22.0</td>\n",
       "      <td>42.0</td>\n",
       "      <td>52.0</td>\n",
       "      <td>46.0</td>\n",
       "      <td>40.0</td>\n",
       "      <td>52.0</td>\n",
       "      <td>36.0</td>\n",
       "      <td>39.0</td>\n",
       "    </tr>\n",
       "    <tr>\n",
       "      <th>3</th>\n",
       "      <td>5.0</td>\n",
       "      <td>9.0</td>\n",
       "      <td>4.0</td>\n",
       "      <td>5.0</td>\n",
       "      <td>8.0</td>\n",
       "      <td>4.0</td>\n",
       "      <td>6.0</td>\n",
       "      <td>5.0</td>\n",
       "      <td>4.0</td>\n",
       "      <td>3.0</td>\n",
       "      <td>4.0</td>\n",
       "      <td>4.0</td>\n",
       "      <td>4.0</td>\n",
       "      <td>5.0</td>\n",
       "    </tr>\n",
       "  </tbody>\n",
       "</table>\n",
       "</div>"
      ],
      "text/plain": [
       "   Count%  PUERPERA%  CARDIOPATI%  HEMATOLOGI%  SIND_DOWN%  HEPATICA%  ASMA%  \\\n",
       "0    27.0       23.0         26.0         27.0        19.0       26.0   29.0   \n",
       "1    37.0       49.0         30.0         24.0        30.0       23.0   44.0   \n",
       "2    31.0       18.0         40.0         45.0        44.0       48.0   22.0   \n",
       "3     5.0        9.0          4.0          5.0         8.0        4.0    6.0   \n",
       "\n",
       "   DIABETES%  NEUROLOGIC%  PNEUMOPATI%  IMUNODEPRE%  RENAL%  OBESIDADE%  \\\n",
       "0       25.0         26.0         24.0         27.0    25.0        28.0   \n",
       "1       29.0         19.0         26.0         29.0    19.0        32.0   \n",
       "2       42.0         52.0         46.0         40.0    52.0        36.0   \n",
       "3        5.0          4.0          3.0          4.0     4.0         4.0   \n",
       "\n",
       "   OUT_MORBI%  \n",
       "0        25.0  \n",
       "1        32.0  \n",
       "2        39.0  \n",
       "3         5.0  "
      ]
     },
     "execution_count": 38,
     "metadata": {},
     "output_type": "execute_result"
    }
   ],
   "source": [
    "risk = ['count(CS_SEXO)', 'sum(PUERPERA2)', 'sum(CARDIOPATI2)', 'sum(HEMATOLOGI2)', 'sum(SIND_DOWN2)', 'sum(HEPATICA2)',\\\n",
    " 'sum(ASMA2)', 'sum(DIABETES2)', 'sum(NEUROLOGIC2)', 'sum(PNEUMOPATI2)', 'sum(IMUNODEPRE2)', 'sum(RENAL2)',\\\n",
    "        'sum(OBESIDADE2)', 'sum(OUT_MORBI2)']\n",
    "\n",
    "risk2 = ['Count%', 'PUERPERA%','CARDIOPATI%','HEMATOLOGI%','SIND_DOWN%','HEPATICA%',\\\n",
    "         'ASMA%','DIABETES%','NEUROLOGIC%','PNEUMOPATI%','IMUNODEPRE%','RENAL%',\\\n",
    "         'OBESIDADE%','OUT_MORBI%']\n",
    "\n",
    "for old, new in zip(risk, risk2):\n",
    "    table6 = table6.withColumn(new, round(100*sf.col(old)/sf.sum(old).over(Window.partitionBy())))\n",
    "    \n",
    "table6.select(risk2).toPandas()"
   ]
  },
  {
   "cell_type": "markdown",
   "metadata": {},
   "source": [
    "Vemos que dos fatores de risco, os mais graves (% de morte superior a amostra) são: Cardiopatia, doença Hematológica, síndrome de Down, doença Hepática, Diabetes, doença Neurológica, outras Pneumatopatias, Imunodeficiência, Doença Renal e outras.<br>\n",
    "\n",
    "Fatores que não apresentaram agravamento foram: paciente puérpera, Asma e Obesidade. "
   ]
  }
 ],
 "metadata": {
  "kernelspec": {
   "display_name": "Python 3",
   "language": "python",
   "name": "python3"
  },
  "language_info": {
   "codemirror_mode": {
    "name": "ipython",
    "version": 3
   },
   "file_extension": ".py",
   "mimetype": "text/x-python",
   "name": "python",
   "nbconvert_exporter": "python",
   "pygments_lexer": "ipython3",
   "version": "3.7.1"
  },
  "toc": {
   "base_numbering": 1,
   "nav_menu": {},
   "number_sections": true,
   "sideBar": true,
   "skip_h1_title": false,
   "title_cell": "Table of Contents",
   "title_sidebar": "Contents",
   "toc_cell": false,
   "toc_position": {},
   "toc_section_display": true,
   "toc_window_display": false
  }
 },
 "nbformat": 4,
 "nbformat_minor": 2
}
